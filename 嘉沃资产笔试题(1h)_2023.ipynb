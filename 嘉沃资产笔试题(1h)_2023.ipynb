{
 "cells": [
  {
   "cell_type": "markdown",
   "id": "c2b8d98b",
   "metadata": {},
   "source": [
    "# 嘉沃资管量化研究员笔试题"
   ]
  },
  {
   "cell_type": "markdown",
   "id": "05030862",
   "metadata": {},
   "source": [
    "注意事项：\n",
    "1. 请独立完成题目,严禁使用外部插件如chatgpt【一经发现,笔试成绩作废! 】\n",
    "2. 整套题目回答时间为1小时,共计7道题，每道题基础分值为10分，满分100分【部分题目根据回答情况会有加分项，但请合理安排时间！】\n",
    "3. 回答问题的编程语言统一使用Python3,可以调用第三方库来解答问题\n",
    "4. 笔试题目在该jupyter notebook中规定位置作答，可以在【Ans】与下一题题干之间根据自身编程习惯插入代码块及文字补充说明\n",
    "5. 完成题目时允许参考书籍或网络资料，但请不要照搬代码\n",
    "6. 作答完成后，通过邮件提交该notebook文件：命名格式为：提交日期+姓名.ipynb"
   ]
  },
  {
   "cell_type": "markdown",
   "id": "931a3eb3",
   "metadata": {},
   "source": [
    "### 1. 将以下python语句用一行python命令改写，要求输出内容一致"
   ]
  },
  {
   "cell_type": "code",
   "execution_count": 1,
   "id": "be710426",
   "metadata": {},
   "outputs": [
    {
     "name": "stdout",
     "output_type": "stream",
     "text": [
      "[2002, 2009, 2016, 2023, 2037, 2044, 2051, 2058, 2072, 2079, 2086, 2093, 2107, 2114, 2121, 2128, 2142, 2149, 2156, 2163, 2177, 2184, 2191, 2198, 2212, 2219, 2226, 2233, 2247, 2254, 2261, 2268, 2282, 2289, 2296, 2303, 2317, 2324, 2331, 2338, 2352, 2359, 2366, 2373, 2387, 2394, 2401, 2408, 2422, 2429, 2436, 2443, 2457, 2464, 2471, 2478, 2492, 2499, 2506, 2513, 2527, 2534, 2541, 2548, 2562, 2569, 2576, 2583, 2597, 2604, 2611, 2618, 2632, 2639, 2646, 2653, 2667, 2674, 2681, 2688, 2702, 2709, 2716, 2723, 2737, 2744, 2751, 2758, 2772, 2779, 2786, 2793, 2807, 2814, 2821, 2828, 2842, 2849, 2856, 2863, 2877, 2884, 2891, 2898, 2912, 2919, 2926, 2933, 2947, 2954, 2961, 2968, 2982, 2989, 2996, 3003, 3017, 3024, 3031, 3038, 3052, 3059, 3066, 3073, 3087, 3094, 3101, 3108, 3122, 3129, 3136, 3143, 3157, 3164, 3171, 3178, 3192, 3199]\n"
     ]
    }
   ],
   "source": [
    "lst = []\n",
    "\n",
    "i = 2000\n",
    "while i <= 3200:\n",
    "    if i%7 == 0:\n",
    "        if i%5 != 0: \n",
    "            lst.append(i)\n",
    "    i = i + 1\n",
    "        \n",
    "print(lst)"
   ]
  },
  {
   "cell_type": "markdown",
   "id": "24e48efc",
   "metadata": {},
   "source": [
    "### 【Ans】1"
   ]
  },
  {
   "cell_type": "code",
   "execution_count": 1,
   "id": "5af8fc29",
   "metadata": {},
   "outputs": [
    {
     "data": {
      "text/plain": [
       "[2002,\n",
       " 2009,\n",
       " 2016,\n",
       " 2023,\n",
       " 2037,\n",
       " 2044,\n",
       " 2051,\n",
       " 2058,\n",
       " 2072,\n",
       " 2079,\n",
       " 2086,\n",
       " 2093,\n",
       " 2107,\n",
       " 2114,\n",
       " 2121,\n",
       " 2128,\n",
       " 2142,\n",
       " 2149,\n",
       " 2156,\n",
       " 2163,\n",
       " 2177,\n",
       " 2184,\n",
       " 2191,\n",
       " 2198,\n",
       " 2212,\n",
       " 2219,\n",
       " 2226,\n",
       " 2233,\n",
       " 2247,\n",
       " 2254,\n",
       " 2261,\n",
       " 2268,\n",
       " 2282,\n",
       " 2289,\n",
       " 2296,\n",
       " 2303,\n",
       " 2317,\n",
       " 2324,\n",
       " 2331,\n",
       " 2338,\n",
       " 2352,\n",
       " 2359,\n",
       " 2366,\n",
       " 2373,\n",
       " 2387,\n",
       " 2394,\n",
       " 2401,\n",
       " 2408,\n",
       " 2422,\n",
       " 2429,\n",
       " 2436,\n",
       " 2443,\n",
       " 2457,\n",
       " 2464,\n",
       " 2471,\n",
       " 2478,\n",
       " 2492,\n",
       " 2499,\n",
       " 2506,\n",
       " 2513,\n",
       " 2527,\n",
       " 2534,\n",
       " 2541,\n",
       " 2548,\n",
       " 2562,\n",
       " 2569,\n",
       " 2576,\n",
       " 2583,\n",
       " 2597,\n",
       " 2604,\n",
       " 2611,\n",
       " 2618,\n",
       " 2632,\n",
       " 2639,\n",
       " 2646,\n",
       " 2653,\n",
       " 2667,\n",
       " 2674,\n",
       " 2681,\n",
       " 2688,\n",
       " 2702,\n",
       " 2709,\n",
       " 2716,\n",
       " 2723,\n",
       " 2737,\n",
       " 2744,\n",
       " 2751,\n",
       " 2758,\n",
       " 2772,\n",
       " 2779,\n",
       " 2786,\n",
       " 2793,\n",
       " 2807,\n",
       " 2814,\n",
       " 2821,\n",
       " 2828,\n",
       " 2842,\n",
       " 2849,\n",
       " 2856,\n",
       " 2863,\n",
       " 2877,\n",
       " 2884,\n",
       " 2891,\n",
       " 2898,\n",
       " 2912,\n",
       " 2919,\n",
       " 2926,\n",
       " 2933,\n",
       " 2947,\n",
       " 2954,\n",
       " 2961,\n",
       " 2968,\n",
       " 2982,\n",
       " 2989,\n",
       " 2996,\n",
       " 3003,\n",
       " 3017,\n",
       " 3024,\n",
       " 3031,\n",
       " 3038,\n",
       " 3052,\n",
       " 3059,\n",
       " 3066,\n",
       " 3073,\n",
       " 3087,\n",
       " 3094,\n",
       " 3101,\n",
       " 3108,\n",
       " 3122,\n",
       " 3129,\n",
       " 3136,\n",
       " 3143,\n",
       " 3157,\n",
       " 3164,\n",
       " 3171,\n",
       " 3178,\n",
       " 3192,\n",
       " 3199]"
      ]
     },
     "execution_count": 1,
     "metadata": {},
     "output_type": "execute_result"
    }
   ],
   "source": [
    "[i for i in range(2000, 3201) if i%7 == 0 and i%5 != 0 ]"
   ]
  },
  {
   "cell_type": "markdown",
   "id": "bf32e6b0",
   "metadata": {},
   "source": [
    "### 2. 计算从 0-9 中选出三个不重复数字能排成的三位数个数。打印所有排列出的三位数，并计算其中能被6整除的数据个数。"
   ]
  },
  {
   "cell_type": "markdown",
   "id": "1718572c",
   "metadata": {},
   "source": [
    "### 【Ans】2"
   ]
  },
  {
   "cell_type": "code",
   "execution_count": 4,
   "id": "f2e612fe",
   "metadata": {},
   "outputs": [
    {
     "name": "stdout",
     "output_type": "stream",
     "text": [
      "648 [102, 103, 104, 105, 106, 107, 108, 109, 120, 123, 124, 125, 126, 127, 128, 129, 130, 132, 134, 135, 136, 137, 138, 139, 140, 142, 143, 145, 146, 147, 148, 149, 150, 152, 153, 154, 156, 157, 158, 159, 160, 162, 163, 164, 165, 167, 168, 169, 170, 172, 173, 174, 175, 176, 178, 179, 180, 182, 183, 184, 185, 186, 187, 189, 190, 192, 193, 194, 195, 196, 197, 198, 201, 203, 204, 205, 206, 207, 208, 209, 210, 213, 214, 215, 216, 217, 218, 219, 230, 231, 234, 235, 236, 237, 238, 239, 240, 241, 243, 245, 246, 247, 248, 249, 250, 251, 253, 254, 256, 257, 258, 259, 260, 261, 263, 264, 265, 267, 268, 269, 270, 271, 273, 274, 275, 276, 278, 279, 280, 281, 283, 284, 285, 286, 287, 289, 290, 291, 293, 294, 295, 296, 297, 298, 301, 302, 304, 305, 306, 307, 308, 309, 310, 312, 314, 315, 316, 317, 318, 319, 320, 321, 324, 325, 326, 327, 328, 329, 340, 341, 342, 345, 346, 347, 348, 349, 350, 351, 352, 354, 356, 357, 358, 359, 360, 361, 362, 364, 365, 367, 368, 369, 370, 371, 372, 374, 375, 376, 378, 379, 380, 381, 382, 384, 385, 386, 387, 389, 390, 391, 392, 394, 395, 396, 397, 398, 401, 402, 403, 405, 406, 407, 408, 409, 410, 412, 413, 415, 416, 417, 418, 419, 420, 421, 423, 425, 426, 427, 428, 429, 430, 431, 432, 435, 436, 437, 438, 439, 450, 451, 452, 453, 456, 457, 458, 459, 460, 461, 462, 463, 465, 467, 468, 469, 470, 471, 472, 473, 475, 476, 478, 479, 480, 481, 482, 483, 485, 486, 487, 489, 490, 491, 492, 493, 495, 496, 497, 498, 501, 502, 503, 504, 506, 507, 508, 509, 510, 512, 513, 514, 516, 517, 518, 519, 520, 521, 523, 524, 526, 527, 528, 529, 530, 531, 532, 534, 536, 537, 538, 539, 540, 541, 542, 543, 546, 547, 548, 549, 560, 561, 562, 563, 564, 567, 568, 569, 570, 571, 572, 573, 574, 576, 578, 579, 580, 581, 582, 583, 584, 586, 587, 589, 590, 591, 592, 593, 594, 596, 597, 598, 601, 602, 603, 604, 605, 607, 608, 609, 610, 612, 613, 614, 615, 617, 618, 619, 620, 621, 623, 624, 625, 627, 628, 629, 630, 631, 632, 634, 635, 637, 638, 639, 640, 641, 642, 643, 645, 647, 648, 649, 650, 651, 652, 653, 654, 657, 658, 659, 670, 671, 672, 673, 674, 675, 678, 679, 680, 681, 682, 683, 684, 685, 687, 689, 690, 691, 692, 693, 694, 695, 697, 698, 701, 702, 703, 704, 705, 706, 708, 709, 710, 712, 713, 714, 715, 716, 718, 719, 720, 721, 723, 724, 725, 726, 728, 729, 730, 731, 732, 734, 735, 736, 738, 739, 740, 741, 742, 743, 745, 746, 748, 749, 750, 751, 752, 753, 754, 756, 758, 759, 760, 761, 762, 763, 764, 765, 768, 769, 780, 781, 782, 783, 784, 785, 786, 789, 790, 791, 792, 793, 794, 795, 796, 798, 801, 802, 803, 804, 805, 806, 807, 809, 810, 812, 813, 814, 815, 816, 817, 819, 820, 821, 823, 824, 825, 826, 827, 829, 830, 831, 832, 834, 835, 836, 837, 839, 840, 841, 842, 843, 845, 846, 847, 849, 850, 851, 852, 853, 854, 856, 857, 859, 860, 861, 862, 863, 864, 865, 867, 869, 870, 871, 872, 873, 874, 875, 876, 879, 890, 891, 892, 893, 894, 895, 896, 897, 901, 902, 903, 904, 905, 906, 907, 908, 910, 912, 913, 914, 915, 916, 917, 918, 920, 921, 923, 924, 925, 926, 927, 928, 930, 931, 932, 934, 935, 936, 937, 938, 940, 941, 942, 943, 945, 946, 947, 948, 950, 951, 952, 953, 954, 956, 957, 958, 960, 961, 962, 963, 964, 965, 967, 968, 970, 971, 972, 973, 974, 975, 976, 978, 980, 981, 982, 983, 984, 985, 986, 987]\n",
      "115\n"
     ]
    }
   ],
   "source": [
    "numlist=[i for i in range(100,1000) if (str(i)[0] != str(i)[2])&(str(i)[0] != str(i)[1])&(str(i)[1] != str(i)[2])]\n",
    "print(len(numlist),numlist)\n",
    "listdiv6=[j for j in numlist if j%6 == 0]\n",
    "print(len(listdiv6))"
   ]
  },
  {
   "cell_type": "markdown",
   "id": "fa56808b",
   "metadata": {},
   "source": [
    "### 3.构造一个函数，实现以下功能：返回斐波那契数列中第n项的值"
   ]
  },
  {
   "cell_type": "markdown",
   "id": "43ea21fd",
   "metadata": {},
   "source": [
    "### 【Ans】3"
   ]
  },
  {
   "cell_type": "code",
   "execution_count": 2,
   "id": "539d0289",
   "metadata": {},
   "outputs": [],
   "source": [
    "def func3(n):\n",
    "    \n",
    "    # special case n = 0,1,2\n",
    "    if n <= 0:\n",
    "        return None\n",
    "    elif n == 1:\n",
    "        return 0\n",
    "    elif n == 2:\n",
    "        return 1\n",
    "    \n",
    "    # general case n >= 3\n",
    "    else:\n",
    "        a, b = 0, 1\n",
    "        for i in range(3, n+1):\n",
    "            a, b = b, a + b\n",
    "            \n",
    "    return b"
   ]
  },
  {
   "cell_type": "markdown",
   "id": "288fede7",
   "metadata": {},
   "source": [
    "### 4. 对于任意正序(从小到大）数组m和n，返回其合并后数组的中位数，不得使用外部模块。\n",
    "#### E.g.: m = [1,2], n = [3,4] \n",
    "####          func4(m,n) =  (2+3)/2 = 2.5"
   ]
  },
  {
   "cell_type": "markdown",
   "id": "8c839048",
   "metadata": {},
   "source": [
    "### 【Ans】4"
   ]
  },
  {
   "cell_type": "code",
   "execution_count": 6,
   "id": "fff9bdfc",
   "metadata": {},
   "outputs": [],
   "source": [
    "def func4(m,n):\n",
    "    \n",
    "    newlist = sorted(m + n)\n",
    "    length = len(newlist)\n",
    "\n",
    "    if length % 2 == 0:\n",
    "        median = (newlist[length // 2 - 1] + newlist[length // 2]) / 2\n",
    "    else:\n",
    "        median = newlist[(length - 1) // 2]\n",
    "   \n",
    "    return median"
   ]
  },
  {
   "cell_type": "code",
   "execution_count": 7,
   "id": "06fff368",
   "metadata": {},
   "outputs": [
    {
     "data": {
      "text/plain": [
       "2.5"
      ]
     },
     "execution_count": 7,
     "metadata": {},
     "output_type": "execute_result"
    }
   ],
   "source": [
    "m = [1,2]\n",
    "n = [3,4] \n",
    "func4(m,n)\n"
   ]
  },
  {
   "cell_type": "markdown",
   "id": "5b6b28c7",
   "metadata": {},
   "source": [
    "### 5. 定义函数func5，使其能够拟合OLS模型并根据参合系数返回拟数/残差/截距项。\n",
    "#### 要求：\n",
    "#### - 允许输入的x, y内含有nan。\n",
    "#### - E.g.: x = [1,2,3,np.nan], y=[2,4,6,8]\n",
    "#### - 除pandas, numpy 外不依赖任何其他外部模块"
   ]
  },
  {
   "cell_type": "markdown",
   "id": "f27b5d08",
   "metadata": {},
   "source": [
    "### 【Ans】5"
   ]
  },
  {
   "cell_type": "code",
   "execution_count": 4,
   "id": "5f0eb296",
   "metadata": {},
   "outputs": [],
   "source": [
    "import numpy as np\n",
    "import pandas as pd\n",
    "\n",
    "def func5(x, y, results='resid'):\n",
    "    # Remove rows with NaN values\n",
    "\n",
    "    mask = np.logical_and(~np.isnan(x), ~np.isnan(y))\n",
    "    x_clean = x[mask]\n",
    "    y_clean = y[mask]\n",
    "    \n",
    "    # Add intercept term \n",
    "    X = np.column_stack((np.ones(len(x_clean)), x_clean))\n",
    "    \n",
    "    # Calculate OLS coefficients\n",
    "    beta = np.linalg.inv(X.T @ X) @ X.T @ y_clean\n",
    "    \n",
    "    # Calculate fitted values\n",
    "    y_hat = X @ beta\n",
    "    \n",
    "    # Calculate residuals\n",
    "    resid = y_clean - y_hat\n",
    "    \n",
    "    if results == 'coefficients':\n",
    "        return beta\n",
    "    elif results == 'fitted':\n",
    "        return y_hat\n",
    "    elif results == 'resid':\n",
    "        return resid\n",
    "    else:\n",
    "        return None\n",
    "\n"
   ]
  },
  {
   "cell_type": "markdown",
   "id": "9c051561",
   "metadata": {},
   "source": [
    "### 6. 运行下面的python语句，close_price为股票日度收盘价模拟数据。\n",
    "#### 6.1 试计算股票每日收益率\n",
    "#### 6.2 过去3日收益率的移动波动率\n",
    "#### 6.3 收益率和波动率(turnover)的截面相关系数。（第三问中缺失值以上一日结果填充）"
   ]
  },
  {
   "cell_type": "code",
   "execution_count": 32,
   "id": "33f1b479",
   "metadata": {},
   "outputs": [],
   "source": [
    "import pandas as pd\n",
    "import numpy as np\n",
    "\n",
    "np.random.seed(0)\n",
    "\n",
    "close_price = pd.DataFrame({\n",
    "    \"stock\":['A', 'B', 'C', 'A', 'B','C','A','C','A','B','C','A','B','C','D','D','D','D','A','B','C','D'],\n",
    "    \"date\":['20210104','20210104','20210104','20210102','20210102','20210102',\n",
    "            '20210103', '20210103', '20210101','20210101','20210101',\n",
    "            '20210105','20210105','20210105','20210102','20210103','20210104','20210105', \n",
    "            '20210106', '20210106', '20210106','20210106'],\n",
    "    \"close_price\":np.random.normal(10,1,22)})\n",
    "\n",
    "turnover = pd.DataFrame({\n",
    "    \"stock\":['A'] * 6 + ['B'] * 6 + ['C'] * 6 + ['D'] * 6,\n",
    "    \"date\":pd.date_range('20210101',periods=6, freq='D').to_list() * 4,\n",
    "    \"turnover\":np.random.uniform(0,1,24)\n",
    "})"
   ]
  },
  {
   "cell_type": "code",
   "execution_count": 33,
   "id": "4409d738",
   "metadata": {},
   "outputs": [
    {
     "name": "stdout",
     "output_type": "stream",
     "text": [
      "   stock      date  close_price  daily_return\n",
      "0      A  20210101     9.896781           NaN\n",
      "1      A  20210102    12.240893      0.236856\n",
      "2      A  20210103    10.950088     -0.105450\n",
      "3      A  20210104    11.764052      0.074334\n",
      "4      A  20210105    11.454274     -0.026333\n",
      "5      A  20210106    10.313068     -0.099631\n",
      "6      B  20210101    10.410599           NaN\n",
      "7      B  20210102    11.867558      0.139950\n",
      "8      B  20210104    10.400157     -0.123648\n",
      "9      B  20210105    10.761038      0.034700\n",
      "10     B  20210106     9.145904     -0.150091\n",
      "11     C  20210101    10.144044           NaN\n",
      "12     C  20210102     9.022722     -0.110540\n",
      "13     C  20210103     9.848643      0.091538\n",
      "14     C  20210104    10.978738      0.114746\n",
      "15     C  20210105    10.121675     -0.078066\n",
      "16     C  20210106     7.447010     -0.264251\n",
      "17     D  20210102    10.443863           NaN\n",
      "18     D  20210103    10.333674     -0.010551\n",
      "19     D  20210104    11.494079      0.112294\n",
      "20     D  20210105     9.794842     -0.147836\n",
      "21     D  20210106    10.653619      0.087676\n"
     ]
    },
    {
     "name": "stderr",
     "output_type": "stream",
     "text": [
      "C:\\Users\\reiyi\\AppData\\Local\\Temp\\ipykernel_8776\\3783568819.py:1: DeprecationWarning: DataFrameGroupBy.apply operated on the grouping columns. This behavior is deprecated, and in a future version of pandas the grouping columns will be excluded from the operation. Either pass `include_groups=False` to exclude the groupings or explicitly select the grouping columns after groupby to silence this warning.\n",
      "  close_price1 = close_price.groupby('stock').apply(lambda x: x.sort_values('date', ascending=True)).reset_index(drop=True)\n"
     ]
    }
   ],
   "source": [
    "close_price1 = close_price.groupby('stock').apply(lambda x: x.sort_values('date', ascending=True)).reset_index(drop=True)\n",
    "close_price1['daily_return'] = close_price1.groupby('stock')['close_price'].pct_change()\n",
    "print(close_price1)"
   ]
  },
  {
   "cell_type": "code",
   "execution_count": 40,
   "id": "c82fcfbc",
   "metadata": {},
   "outputs": [
    {
     "name": "stdout",
     "output_type": "stream",
     "text": [
      "   stock      date  close_price  daily_return  return_3_vol\n",
      "0      A  20210101     9.896781           NaN           NaN\n",
      "1      A  20210102    12.240893      0.236856           NaN\n",
      "2      A  20210103    10.950088     -0.105450           NaN\n",
      "3      A  20210104    11.764052      0.074334      0.171226\n",
      "4      A  20210105    11.454274     -0.026333      0.090107\n",
      "5      A  20210106    10.313068     -0.099631      0.087341\n",
      "6      B  20210101    10.410599           NaN           NaN\n",
      "7      B  20210102    11.867558      0.139950           NaN\n",
      "8      B  20210104    10.400157     -0.123648           NaN\n",
      "9      B  20210105    10.761038      0.034700      0.132687\n",
      "10     B  20210106     9.145904     -0.150091      0.099934\n",
      "11     C  20210101    10.144044           NaN           NaN\n",
      "12     C  20210102     9.022722     -0.110540           NaN\n",
      "13     C  20210103     9.848643      0.091538           NaN\n",
      "14     C  20210104    10.978738      0.114746      0.123914\n",
      "15     C  20210105    10.121675     -0.078066      0.105262\n",
      "16     C  20210106     7.447010     -0.264251      0.189508\n",
      "17     D  20210102    10.443863           NaN           NaN\n",
      "18     D  20210103    10.333674     -0.010551           NaN\n",
      "19     D  20210104    11.494079      0.112294           NaN\n",
      "20     D  20210105     9.794842     -0.147836      0.130131\n",
      "21     D  20210106    10.653619      0.087676      0.143608\n"
     ]
    }
   ],
   "source": [
    "close_price1['return_3_vol'] = np.array(close_price1.groupby('stock')['daily_return'].rolling(window=3).std())\n",
    "print(close_price1)"
   ]
  },
  {
   "cell_type": "code",
   "execution_count": 50,
   "id": "a8b798ec",
   "metadata": {},
   "outputs": [
    {
     "name": "stderr",
     "output_type": "stream",
     "text": [
      "C:\\Users\\reiyi\\AppData\\Local\\Temp\\ipykernel_8776\\1225986315.py:2: FutureWarning: Series.fillna with 'method' is deprecated and will raise in a future version. Use obj.ffill() or obj.bfill() instead.\n",
      "  close_price1['return_3_vol']=close_price1['return_3_vol'].fillna(method='ffill')\n"
     ]
    },
    {
     "data": {
      "text/html": [
       "<div>\n",
       "<style scoped>\n",
       "    .dataframe tbody tr th:only-of-type {\n",
       "        vertical-align: middle;\n",
       "    }\n",
       "\n",
       "    .dataframe tbody tr th {\n",
       "        vertical-align: top;\n",
       "    }\n",
       "\n",
       "    .dataframe thead th {\n",
       "        text-align: right;\n",
       "    }\n",
       "</style>\n",
       "<table border=\"1\" class=\"dataframe\">\n",
       "  <thead>\n",
       "    <tr style=\"text-align: right;\">\n",
       "      <th></th>\n",
       "      <th>stock</th>\n",
       "      <th>date</th>\n",
       "      <th>close_price</th>\n",
       "      <th>daily_return</th>\n",
       "      <th>return_3_vol</th>\n",
       "      <th>turnover</th>\n",
       "    </tr>\n",
       "  </thead>\n",
       "  <tbody>\n",
       "    <tr>\n",
       "      <th>0</th>\n",
       "      <td>A</td>\n",
       "      <td>2021-01-01</td>\n",
       "      <td>9.896781</td>\n",
       "      <td>NaN</td>\n",
       "      <td>NaN</td>\n",
       "      <td>0.264556</td>\n",
       "    </tr>\n",
       "    <tr>\n",
       "      <th>1</th>\n",
       "      <td>A</td>\n",
       "      <td>2021-01-02</td>\n",
       "      <td>12.240893</td>\n",
       "      <td>0.236856</td>\n",
       "      <td>NaN</td>\n",
       "      <td>0.774234</td>\n",
       "    </tr>\n",
       "    <tr>\n",
       "      <th>2</th>\n",
       "      <td>A</td>\n",
       "      <td>2021-01-03</td>\n",
       "      <td>10.950088</td>\n",
       "      <td>-0.105450</td>\n",
       "      <td>NaN</td>\n",
       "      <td>0.456150</td>\n",
       "    </tr>\n",
       "    <tr>\n",
       "      <th>3</th>\n",
       "      <td>A</td>\n",
       "      <td>2021-01-04</td>\n",
       "      <td>11.764052</td>\n",
       "      <td>0.074334</td>\n",
       "      <td>0.171226</td>\n",
       "      <td>0.568434</td>\n",
       "    </tr>\n",
       "    <tr>\n",
       "      <th>4</th>\n",
       "      <td>A</td>\n",
       "      <td>2021-01-05</td>\n",
       "      <td>11.454274</td>\n",
       "      <td>-0.026333</td>\n",
       "      <td>0.090107</td>\n",
       "      <td>0.018790</td>\n",
       "    </tr>\n",
       "    <tr>\n",
       "      <th>5</th>\n",
       "      <td>A</td>\n",
       "      <td>2021-01-06</td>\n",
       "      <td>10.313068</td>\n",
       "      <td>-0.099631</td>\n",
       "      <td>0.087341</td>\n",
       "      <td>0.617635</td>\n",
       "    </tr>\n",
       "    <tr>\n",
       "      <th>6</th>\n",
       "      <td>B</td>\n",
       "      <td>2021-01-01</td>\n",
       "      <td>10.410599</td>\n",
       "      <td>NaN</td>\n",
       "      <td>0.087341</td>\n",
       "      <td>0.612096</td>\n",
       "    </tr>\n",
       "    <tr>\n",
       "      <th>7</th>\n",
       "      <td>B</td>\n",
       "      <td>2021-01-02</td>\n",
       "      <td>11.867558</td>\n",
       "      <td>0.139950</td>\n",
       "      <td>0.087341</td>\n",
       "      <td>0.616934</td>\n",
       "    </tr>\n",
       "    <tr>\n",
       "      <th>8</th>\n",
       "      <td>B</td>\n",
       "      <td>2021-01-04</td>\n",
       "      <td>10.400157</td>\n",
       "      <td>-0.123648</td>\n",
       "      <td>0.087341</td>\n",
       "      <td>0.681820</td>\n",
       "    </tr>\n",
       "    <tr>\n",
       "      <th>9</th>\n",
       "      <td>B</td>\n",
       "      <td>2021-01-05</td>\n",
       "      <td>10.761038</td>\n",
       "      <td>0.034700</td>\n",
       "      <td>0.132687</td>\n",
       "      <td>0.359508</td>\n",
       "    </tr>\n",
       "    <tr>\n",
       "      <th>10</th>\n",
       "      <td>B</td>\n",
       "      <td>2021-01-06</td>\n",
       "      <td>9.145904</td>\n",
       "      <td>-0.150091</td>\n",
       "      <td>0.099934</td>\n",
       "      <td>0.437032</td>\n",
       "    </tr>\n",
       "    <tr>\n",
       "      <th>11</th>\n",
       "      <td>C</td>\n",
       "      <td>2021-01-01</td>\n",
       "      <td>10.144044</td>\n",
       "      <td>NaN</td>\n",
       "      <td>0.099934</td>\n",
       "      <td>0.697631</td>\n",
       "    </tr>\n",
       "    <tr>\n",
       "      <th>12</th>\n",
       "      <td>C</td>\n",
       "      <td>2021-01-02</td>\n",
       "      <td>9.022722</td>\n",
       "      <td>-0.110540</td>\n",
       "      <td>0.099934</td>\n",
       "      <td>0.060225</td>\n",
       "    </tr>\n",
       "    <tr>\n",
       "      <th>13</th>\n",
       "      <td>C</td>\n",
       "      <td>2021-01-03</td>\n",
       "      <td>9.848643</td>\n",
       "      <td>0.091538</td>\n",
       "      <td>0.099934</td>\n",
       "      <td>0.666767</td>\n",
       "    </tr>\n",
       "    <tr>\n",
       "      <th>14</th>\n",
       "      <td>C</td>\n",
       "      <td>2021-01-04</td>\n",
       "      <td>10.978738</td>\n",
       "      <td>0.114746</td>\n",
       "      <td>0.123914</td>\n",
       "      <td>0.670638</td>\n",
       "    </tr>\n",
       "    <tr>\n",
       "      <th>15</th>\n",
       "      <td>C</td>\n",
       "      <td>2021-01-05</td>\n",
       "      <td>10.121675</td>\n",
       "      <td>-0.078066</td>\n",
       "      <td>0.105262</td>\n",
       "      <td>0.210383</td>\n",
       "    </tr>\n",
       "    <tr>\n",
       "      <th>16</th>\n",
       "      <td>C</td>\n",
       "      <td>2021-01-06</td>\n",
       "      <td>7.447010</td>\n",
       "      <td>-0.264251</td>\n",
       "      <td>0.189508</td>\n",
       "      <td>0.128926</td>\n",
       "    </tr>\n",
       "    <tr>\n",
       "      <th>17</th>\n",
       "      <td>D</td>\n",
       "      <td>2021-01-02</td>\n",
       "      <td>10.443863</td>\n",
       "      <td>NaN</td>\n",
       "      <td>0.189508</td>\n",
       "      <td>0.363711</td>\n",
       "    </tr>\n",
       "    <tr>\n",
       "      <th>18</th>\n",
       "      <td>D</td>\n",
       "      <td>2021-01-03</td>\n",
       "      <td>10.333674</td>\n",
       "      <td>-0.010551</td>\n",
       "      <td>0.189508</td>\n",
       "      <td>0.570197</td>\n",
       "    </tr>\n",
       "    <tr>\n",
       "      <th>19</th>\n",
       "      <td>D</td>\n",
       "      <td>2021-01-04</td>\n",
       "      <td>11.494079</td>\n",
       "      <td>0.112294</td>\n",
       "      <td>0.189508</td>\n",
       "      <td>0.438602</td>\n",
       "    </tr>\n",
       "    <tr>\n",
       "      <th>20</th>\n",
       "      <td>D</td>\n",
       "      <td>2021-01-05</td>\n",
       "      <td>9.794842</td>\n",
       "      <td>-0.147836</td>\n",
       "      <td>0.130131</td>\n",
       "      <td>0.988374</td>\n",
       "    </tr>\n",
       "    <tr>\n",
       "      <th>21</th>\n",
       "      <td>D</td>\n",
       "      <td>2021-01-06</td>\n",
       "      <td>10.653619</td>\n",
       "      <td>0.087676</td>\n",
       "      <td>0.143608</td>\n",
       "      <td>0.102045</td>\n",
       "    </tr>\n",
       "  </tbody>\n",
       "</table>\n",
       "</div>"
      ],
      "text/plain": [
       "   stock       date  close_price  daily_return  return_3_vol  turnover\n",
       "0      A 2021-01-01     9.896781           NaN           NaN  0.264556\n",
       "1      A 2021-01-02    12.240893      0.236856           NaN  0.774234\n",
       "2      A 2021-01-03    10.950088     -0.105450           NaN  0.456150\n",
       "3      A 2021-01-04    11.764052      0.074334      0.171226  0.568434\n",
       "4      A 2021-01-05    11.454274     -0.026333      0.090107  0.018790\n",
       "5      A 2021-01-06    10.313068     -0.099631      0.087341  0.617635\n",
       "6      B 2021-01-01    10.410599           NaN      0.087341  0.612096\n",
       "7      B 2021-01-02    11.867558      0.139950      0.087341  0.616934\n",
       "8      B 2021-01-04    10.400157     -0.123648      0.087341  0.681820\n",
       "9      B 2021-01-05    10.761038      0.034700      0.132687  0.359508\n",
       "10     B 2021-01-06     9.145904     -0.150091      0.099934  0.437032\n",
       "11     C 2021-01-01    10.144044           NaN      0.099934  0.697631\n",
       "12     C 2021-01-02     9.022722     -0.110540      0.099934  0.060225\n",
       "13     C 2021-01-03     9.848643      0.091538      0.099934  0.666767\n",
       "14     C 2021-01-04    10.978738      0.114746      0.123914  0.670638\n",
       "15     C 2021-01-05    10.121675     -0.078066      0.105262  0.210383\n",
       "16     C 2021-01-06     7.447010     -0.264251      0.189508  0.128926\n",
       "17     D 2021-01-02    10.443863           NaN      0.189508  0.363711\n",
       "18     D 2021-01-03    10.333674     -0.010551      0.189508  0.570197\n",
       "19     D 2021-01-04    11.494079      0.112294      0.189508  0.438602\n",
       "20     D 2021-01-05     9.794842     -0.147836      0.130131  0.988374\n",
       "21     D 2021-01-06    10.653619      0.087676      0.143608  0.102045"
      ]
     },
     "execution_count": 50,
     "metadata": {},
     "output_type": "execute_result"
    }
   ],
   "source": [
    "close_price1['date'] = pd.to_datetime(close_price1['date'])\n",
    "close_price1['return_3_vol']=close_price1['return_3_vol'].fillna(method='ffill')\n",
    "newdata = pd.merge(close_price1, turnover, on=['stock', 'date'], how='left')\n",
    "newdata\n"
   ]
  },
  {
   "cell_type": "code",
   "execution_count": 51,
   "id": "3b610609",
   "metadata": {},
   "outputs": [
    {
     "name": "stderr",
     "output_type": "stream",
     "text": [
      "C:\\Users\\reiyi\\AppData\\Local\\Temp\\ipykernel_8776\\1946992795.py:1: DeprecationWarning: DataFrameGroupBy.apply operated on the grouping columns. This behavior is deprecated, and in a future version of pandas the grouping columns will be excluded from the operation. Either pass `include_groups=False` to exclude the groupings or explicitly select the grouping columns after groupby to silence this warning.\n",
      "  correlation = newdata.groupby('date').apply(lambda x: x['turnover'].corr(x['return_3_vol']))\n"
     ]
    },
    {
     "data": {
      "text/plain": [
       "date\n",
       "2021-01-01    1.000000\n",
       "2021-01-02   -0.061153\n",
       "2021-01-03   -1.000000\n",
       "2021-01-04   -0.911553\n",
       "2021-01-05    0.757168\n",
       "2021-01-06   -0.881390\n",
       "dtype: float64"
      ]
     },
     "execution_count": 51,
     "metadata": {},
     "output_type": "execute_result"
    }
   ],
   "source": [
    "\n",
    "correlation = newdata.groupby('date').apply(lambda x: x['turnover'].corr(x['return_3_vol']))\n",
    "correlation\n"
   ]
  },
  {
   "cell_type": "markdown",
   "id": "1ce1bb08",
   "metadata": {},
   "source": [
    "### 7.提供一个格式为pd.Series的价格序列，计算最大回撤和次大回撤（注意两者时间区间不能有重叠），以及两者的开始和结束时间【要求算法复杂度尽可能低，较低的复杂度有加分】"
   ]
  },
  {
   "cell_type": "code",
   "execution_count": 6,
   "id": "f97a36b7",
   "metadata": {},
   "outputs": [
    {
     "data": {
      "text/plain": [
       "2018-03-07    1.653590\n",
       "2018-03-08    1.115007\n",
       "2018-03-09    1.950283\n",
       "2018-03-10    1.482191\n",
       "2018-03-11    1.872475\n",
       "Freq: D, dtype: float64"
      ]
     },
     "execution_count": 6,
     "metadata": {},
     "output_type": "execute_result"
    }
   ],
   "source": [
    "# 可以用给出的series来测试函数\n",
    "np.random.seed(1000)\n",
    "series = pd.Series(np.random.rand(300)+1,index = pd.date_range(end = '12/31/2018', periods = 300))\n",
    "series.head()"
   ]
  },
  {
   "cell_type": "code",
   "execution_count": null,
   "id": "19c7f347",
   "metadata": {},
   "outputs": [],
   "source": [
    "import pandas as pd\n",
    "\n",
    "def calculate_drawdown(series):\n",
    "    max_drawdown = 0\n",
    "    second_max_drawdown = 0\n",
    "    max_drawdown_start = None\n",
    "    max_drawdown_end = None\n",
    "    second_max_drawdown_start = None\n",
    "    second_max_drawdown_end = None\n",
    "    \n",
    "    max_price = series[0]\n",
    "    \n",
    "    for i in range(1, len(series)):\n",
    "        price = series[i]\n",
    "        \n",
    "        if price > max_price:\n",
    "            max_price = price\n",
    "        \n",
    "        drawdown = (max_price - price) / max_price * 100\n",
    "        \n",
    "        if drawdown > max_drawdown:\n",
    "            second_max_drawdown = max_drawdown\n",
    "            second_max_drawdown_start = max_drawdown_start\n",
    "            second_max_drawdown_end = max_drawdown_end\n",
    "            \n",
    "            max_drawdown = drawdown\n",
    "            max_drawdown_start = series.index[i-1]\n",
    "            max_drawdown_end = series.index[i]\n",
    "        \n",
    "        elif drawdown > second_max_drawdown:\n",
    "            second_max_drawdown = drawdown\n",
    "            second_max_drawdown_start = series.index[i-1]\n",
    "            second_max_drawdown_end = series.index[i]\n",
    "    \n",
    "    return max_drawdown, second_max_drawdown, max_drawdown_start, max_drawdown_end, second_max_drawdown_start, second_max_drawdown_end\n",
    "\n"
   ]
  },
  {
   "cell_type": "code",
   "execution_count": 21,
   "id": "2fa927de",
   "metadata": {},
   "outputs": [],
   "source": [
    "import pandas as pd\n",
    "import numpy as np\n",
    "df1=pd.DataFrame(np.random.random(10))\n",
    "df1.T.to_csv(r\"C:\\Users\\Lenovo\\Desktop\\df1.csv\",mode=\"a\",header=False)\n"
   ]
  },
  {
   "cell_type": "code",
   "execution_count": null,
   "id": "59de24d3",
   "metadata": {},
   "outputs": [],
   "source": []
  },
  {
   "cell_type": "code",
   "execution_count": null,
   "id": "2acec389",
   "metadata": {},
   "outputs": [],
   "source": []
  }
 ],
 "metadata": {
  "kernelspec": {
   "display_name": "base",
   "language": "python",
   "name": "python3"
  },
  "language_info": {
   "codemirror_mode": {
    "name": "ipython",
    "version": 3
   },
   "file_extension": ".py",
   "mimetype": "text/x-python",
   "name": "python",
   "nbconvert_exporter": "python",
   "pygments_lexer": "ipython3",
   "version": "3.12.4"
  }
 },
 "nbformat": 4,
 "nbformat_minor": 5
}
